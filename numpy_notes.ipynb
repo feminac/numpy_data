{
 "cells": [
  {
   "cell_type": "code",
   "execution_count": 43,
   "id": "771f231b",
   "metadata": {},
   "outputs": [],
   "source": [
    "import numpy as np"
   ]
  },
  {
   "cell_type": "code",
   "execution_count": 44,
   "id": "c722caab",
   "metadata": {},
   "outputs": [
    {
     "data": {
      "text/plain": [
       "array([1, 2, 3, 4])"
      ]
     },
     "execution_count": 44,
     "metadata": {},
     "output_type": "execute_result"
    }
   ],
   "source": [
    "arr=np.array([1,2,3,4])\n",
    "arr"
   ]
  },
  {
   "cell_type": "code",
   "execution_count": 45,
   "id": "8ed1bf1e",
   "metadata": {},
   "outputs": [
    {
     "data": {
      "text/plain": [
       "array([[1, 2, 3],\n",
       "       [4, 5, 6]])"
      ]
     },
     "execution_count": 45,
     "metadata": {},
     "output_type": "execute_result"
    }
   ],
   "source": [
    "arr2=np.array([[1,2,3],[4,5,6]])\n",
    "arr2"
   ]
  },
  {
   "cell_type": "code",
   "execution_count": 46,
   "id": "47110a1b",
   "metadata": {},
   "outputs": [
    {
     "data": {
      "text/plain": [
       "array([[[1, 2, 3],\n",
       "        [4, 5, 6],\n",
       "        [7, 8, 9]]])"
      ]
     },
     "execution_count": 46,
     "metadata": {},
     "output_type": "execute_result"
    }
   ],
   "source": [
    "arr3=np.array([[[1,2,3],[4,5,6],[7,8,9]]])\n",
    "arr3"
   ]
  },
  {
   "cell_type": "code",
   "execution_count": 47,
   "id": "61a7e1d6",
   "metadata": {},
   "outputs": [
    {
     "data": {
      "text/plain": [
       "1"
      ]
     },
     "execution_count": 47,
     "metadata": {},
     "output_type": "execute_result"
    }
   ],
   "source": [
    "arr.ndim"
   ]
  },
  {
   "cell_type": "code",
   "execution_count": 48,
   "id": "a21d018a",
   "metadata": {},
   "outputs": [
    {
     "data": {
      "text/plain": [
       "2"
      ]
     },
     "execution_count": 48,
     "metadata": {},
     "output_type": "execute_result"
    }
   ],
   "source": [
    "arr2.ndim"
   ]
  },
  {
   "cell_type": "raw",
   "id": "998bc69f",
   "metadata": {},
   "source": [
    "arr[0]"
   ]
  },
  {
   "cell_type": "code",
   "execution_count": 49,
   "id": "0731f07c",
   "metadata": {},
   "outputs": [
    {
     "data": {
      "text/plain": [
       "array([[1, 2, 3],\n",
       "       [4, 5, 6]])"
      ]
     },
     "execution_count": 49,
     "metadata": {},
     "output_type": "execute_result"
    }
   ],
   "source": [
    "arr2"
   ]
  },
  {
   "cell_type": "code",
   "execution_count": 50,
   "id": "d8518d5d",
   "metadata": {},
   "outputs": [
    {
     "data": {
      "text/plain": [
       "(4,)"
      ]
     },
     "execution_count": 50,
     "metadata": {},
     "output_type": "execute_result"
    }
   ],
   "source": [
    "arr.shape"
   ]
  },
  {
   "cell_type": "code",
   "execution_count": 51,
   "id": "7c586b85",
   "metadata": {},
   "outputs": [
    {
     "data": {
      "text/plain": [
       "array([ 1,  2,  3,  4,  5,  6,  7,  8,  9, 10])"
      ]
     },
     "execution_count": 51,
     "metadata": {},
     "output_type": "execute_result"
    }
   ],
   "source": [
    "arr8=np.arange(1,11)\n",
    "arr8"
   ]
  },
  {
   "cell_type": "code",
   "execution_count": 52,
   "id": "fee2e82f",
   "metadata": {},
   "outputs": [
    {
     "data": {
      "text/plain": [
       "array([10, 11, 12, 13, 14, 15, 16, 17, 18, 19, 20])"
      ]
     },
     "execution_count": 52,
     "metadata": {},
     "output_type": "execute_result"
    }
   ],
   "source": [
    "arr6=np.arange(10,21)\n",
    "arr6"
   ]
  },
  {
   "cell_type": "code",
   "execution_count": 53,
   "id": "98837e43",
   "metadata": {},
   "outputs": [
    {
     "data": {
      "text/plain": [
       "array([[0., 0., 0.],\n",
       "       [0., 0., 0.],\n",
       "       [0., 0., 0.]])"
      ]
     },
     "execution_count": 53,
     "metadata": {},
     "output_type": "execute_result"
    }
   ],
   "source": [
    "zero_matri=np.zeros((3,3))\n",
    "zero_matri"
   ]
  },
  {
   "cell_type": "code",
   "execution_count": 54,
   "id": "4f0bc8ed",
   "metadata": {},
   "outputs": [
    {
     "data": {
      "text/plain": [
       "array([[1., 1., 1., 1.],\n",
       "       [1., 1., 1., 1.],\n",
       "       [1., 1., 1., 1.],\n",
       "       [1., 1., 1., 1.]])"
      ]
     },
     "execution_count": 54,
     "metadata": {},
     "output_type": "execute_result"
    }
   ],
   "source": [
    "one_matri=np.ones((4,4))\n",
    "one_matri"
   ]
  },
  {
   "cell_type": "code",
   "execution_count": 55,
   "id": "2c0bb1fb",
   "metadata": {},
   "outputs": [
    {
     "data": {
      "text/plain": [
       "array([[7, 5, 1],\n",
       "       [8, 8, 8],\n",
       "       [1, 6, 7]])"
      ]
     },
     "execution_count": 55,
     "metadata": {},
     "output_type": "execute_result"
    }
   ],
   "source": [
    "random_matrix2=np.random.randint(1,11,size=(3,3))\n",
    "random_matrix2"
   ]
  },
  {
   "cell_type": "code",
   "execution_count": 56,
   "id": "37c13bbf",
   "metadata": {},
   "outputs": [
    {
     "data": {
      "text/plain": [
       "array([ 1,  2,  3,  4,  5,  6,  7,  8,  9, 10, 11, 12, 13, 14, 15, 16, 17,\n",
       "       18, 19, 20, 21, 22, 23, 24, 25, 26, 27, 28, 29, 30, 31, 32, 33, 34,\n",
       "       35, 36, 37, 38, 39, 40, 41, 42, 43, 44, 45, 46, 47, 48, 49, 50])"
      ]
     },
     "execution_count": 56,
     "metadata": {},
     "output_type": "execute_result"
    }
   ],
   "source": [
    "arr8=np.arange(1,51)\n",
    "arr8"
   ]
  },
  {
   "cell_type": "code",
   "execution_count": 57,
   "id": "d7fa34ea",
   "metadata": {},
   "outputs": [
    {
     "data": {
      "text/plain": [
       "array([[1., 1., 1.],\n",
       "       [1., 1., 1.],\n",
       "       [1., 1., 1.]])"
      ]
     },
     "execution_count": 57,
     "metadata": {},
     "output_type": "execute_result"
    }
   ],
   "source": [
    "arr1=np.ones((3,3))\n",
    "arr1"
   ]
  },
  {
   "cell_type": "code",
   "execution_count": 58,
   "id": "06dde720",
   "metadata": {},
   "outputs": [
    {
     "data": {
      "text/plain": [
       "array([[1., 1., 1., 1.],\n",
       "       [1., 1., 1., 1.],\n",
       "       [1., 1., 1., 1.],\n",
       "       [1., 1., 1., 1.]])"
      ]
     },
     "execution_count": 58,
     "metadata": {},
     "output_type": "execute_result"
    }
   ],
   "source": [
    "arr2=np.ones((4,4))\n",
    "arr2"
   ]
  },
  {
   "cell_type": "code",
   "execution_count": 59,
   "id": "d7ba419e",
   "metadata": {},
   "outputs": [
    {
     "data": {
      "text/plain": [
       "array([0, 1, 2, 3])"
      ]
     },
     "execution_count": 59,
     "metadata": {},
     "output_type": "execute_result"
    }
   ],
   "source": [
    "import numpy as np\n",
    "a=np.arange(4)\n",
    "a"
   ]
  },
  {
   "cell_type": "code",
   "execution_count": 60,
   "id": "7a866dd4",
   "metadata": {},
   "outputs": [
    {
     "data": {
      "text/plain": [
       "array([10, 11, 12, 13])"
      ]
     },
     "execution_count": 60,
     "metadata": {},
     "output_type": "execute_result"
    }
   ],
   "source": [
    "b=np.arange(10,14)\n",
    "b"
   ]
  },
  {
   "cell_type": "code",
   "execution_count": 61,
   "id": "e48515bc",
   "metadata": {},
   "outputs": [
    {
     "data": {
      "text/plain": [
       "array([10, 12, 14, 16])"
      ]
     },
     "execution_count": 61,
     "metadata": {},
     "output_type": "execute_result"
    }
   ],
   "source": [
    "c=a+b\n",
    "c"
   ]
  },
  {
   "cell_type": "code",
   "execution_count": 62,
   "id": "9af57406",
   "metadata": {},
   "outputs": [
    {
     "data": {
      "text/plain": [
       "array([-10, -10, -10, -10])"
      ]
     },
     "execution_count": 62,
     "metadata": {},
     "output_type": "execute_result"
    }
   ],
   "source": [
    "a-b"
   ]
  },
  {
   "cell_type": "code",
   "execution_count": 63,
   "id": "46382911",
   "metadata": {},
   "outputs": [
    {
     "data": {
      "text/plain": [
       "array([ 0, 11, 24, 39])"
      ]
     },
     "execution_count": 63,
     "metadata": {},
     "output_type": "execute_result"
    }
   ],
   "source": [
    "a*b"
   ]
  },
  {
   "cell_type": "code",
   "execution_count": 64,
   "id": "b17b9119",
   "metadata": {},
   "outputs": [
    {
     "data": {
      "text/plain": [
       "array([0, 2, 4, 6])"
      ]
     },
     "execution_count": 64,
     "metadata": {},
     "output_type": "execute_result"
    }
   ],
   "source": [
    "a*2"
   ]
  },
  {
   "cell_type": "code",
   "execution_count": 65,
   "id": "846dab11",
   "metadata": {},
   "outputs": [
    {
     "data": {
      "text/plain": [
       "array([0, 3, 6, 9])"
      ]
     },
     "execution_count": 65,
     "metadata": {},
     "output_type": "execute_result"
    }
   ],
   "source": [
    "a*3"
   ]
  },
  {
   "cell_type": "code",
   "execution_count": 66,
   "id": "ef292394",
   "metadata": {},
   "outputs": [
    {
     "data": {
      "text/plain": [
       "array([False, False, False, False])"
      ]
     },
     "execution_count": 66,
     "metadata": {},
     "output_type": "execute_result"
    }
   ],
   "source": [
    "b<10"
   ]
  },
  {
   "cell_type": "code",
   "execution_count": 67,
   "id": "1caf37af",
   "metadata": {},
   "outputs": [
    {
     "data": {
      "text/plain": [
       "array([ True,  True, False, False])"
      ]
     },
     "execution_count": 67,
     "metadata": {},
     "output_type": "execute_result"
    }
   ],
   "source": [
    "b<12"
   ]
  },
  {
   "cell_type": "code",
   "execution_count": 8,
   "id": "e12d3e15",
   "metadata": {},
   "outputs": [
    {
     "data": {
      "text/plain": [
       "array([ 1,  2,  3,  4,  5,  6,  7,  8,  9, 10, 11, 12])"
      ]
     },
     "execution_count": 8,
     "metadata": {},
     "output_type": "execute_result"
    }
   ],
   "source": [
    "import numpy as np\n",
    "\n",
    "d=np.arange(1,13)\n",
    "d"
   ]
  },
  {
   "cell_type": "code",
   "execution_count": 9,
   "id": "c06a4521",
   "metadata": {},
   "outputs": [
    {
     "data": {
      "text/plain": [
       "array([[ 1,  2,  3,  4],\n",
       "       [ 5,  6,  7,  8],\n",
       "       [ 9, 10, 11, 12]])"
      ]
     },
     "execution_count": 9,
     "metadata": {},
     "output_type": "execute_result"
    }
   ],
   "source": [
    "e=d.reshape(3,4)\n",
    "e"
   ]
  },
  {
   "cell_type": "code",
   "execution_count": 70,
   "id": "7b449cac",
   "metadata": {},
   "outputs": [
    {
     "data": {
      "text/plain": [
       "array([[ 0,  1,  2,  3],\n",
       "       [ 4,  5,  6,  7],\n",
       "       [ 8,  9, 10, 11]])"
      ]
     },
     "execution_count": 70,
     "metadata": {},
     "output_type": "execute_result"
    }
   ],
   "source": [
    "e.ndim\n",
    "e"
   ]
  },
  {
   "cell_type": "code",
   "execution_count": 71,
   "id": "a5b8278c",
   "metadata": {},
   "outputs": [
    {
     "data": {
      "text/plain": [
       "66"
      ]
     },
     "execution_count": 71,
     "metadata": {},
     "output_type": "execute_result"
    }
   ],
   "source": [
    "e.sum()"
   ]
  },
  {
   "cell_type": "code",
   "execution_count": 72,
   "id": "66e95461",
   "metadata": {},
   "outputs": [
    {
     "data": {
      "text/plain": [
       "11"
      ]
     },
     "execution_count": 72,
     "metadata": {},
     "output_type": "execute_result"
    }
   ],
   "source": [
    "e.max()"
   ]
  },
  {
   "cell_type": "code",
   "execution_count": 73,
   "id": "cc2ec7a8",
   "metadata": {},
   "outputs": [
    {
     "data": {
      "text/plain": [
       "0"
      ]
     },
     "execution_count": 73,
     "metadata": {},
     "output_type": "execute_result"
    }
   ],
   "source": [
    "e.min()"
   ]
  },
  {
   "cell_type": "code",
   "execution_count": 74,
   "id": "32425bc9",
   "metadata": {},
   "outputs": [
    {
     "data": {
      "text/plain": [
       "5.5"
      ]
     },
     "execution_count": 74,
     "metadata": {},
     "output_type": "execute_result"
    }
   ],
   "source": [
    "e.mean()"
   ]
  },
  {
   "cell_type": "code",
   "execution_count": 75,
   "id": "f58b2b03",
   "metadata": {},
   "outputs": [
    {
     "data": {
      "text/plain": [
       "dtype('int32')"
      ]
     },
     "execution_count": 75,
     "metadata": {},
     "output_type": "execute_result"
    }
   ],
   "source": [
    "dt=np.dtype(np.int32)\n",
    "dt"
   ]
  },
  {
   "cell_type": "code",
   "execution_count": 76,
   "id": "772daf26",
   "metadata": {},
   "outputs": [
    {
     "data": {
      "text/plain": [
       "array([0, 4, 8])"
      ]
     },
     "execution_count": 76,
     "metadata": {},
     "output_type": "execute_result"
    }
   ],
   "source": [
    "e.min(axis=1)"
   ]
  },
  {
   "cell_type": "code",
   "execution_count": 77,
   "id": "43bccea2",
   "metadata": {},
   "outputs": [
    {
     "data": {
      "text/plain": [
       "array([0, 1, 2, 3])"
      ]
     },
     "execution_count": 77,
     "metadata": {},
     "output_type": "execute_result"
    }
   ],
   "source": [
    "e.min(axis=0)"
   ]
  },
  {
   "cell_type": "code",
   "execution_count": 78,
   "id": "a3c09b51",
   "metadata": {},
   "outputs": [
    {
     "data": {
      "text/plain": [
       "array([12, 15, 18, 21])"
      ]
     },
     "execution_count": 78,
     "metadata": {},
     "output_type": "execute_result"
    }
   ],
   "source": [
    "e.sum(axis=0)"
   ]
  },
  {
   "cell_type": "code",
   "execution_count": 79,
   "id": "87f9e414",
   "metadata": {},
   "outputs": [
    {
     "data": {
      "text/plain": [
       "array([[0.41347616, 0.3939117 , 0.52663996, 0.31542709],\n",
       "       [0.36748118, 0.99429711, 0.46012885, 0.1928901 ],\n",
       "       [0.9712583 , 0.12581869, 0.84606985, 0.54787334]])"
      ]
     },
     "execution_count": 79,
     "metadata": {},
     "output_type": "execute_result"
    }
   ],
   "source": [
    "z=np.random.random((3,4))\n",
    "z"
   ]
  },
  {
   "cell_type": "code",
   "execution_count": 80,
   "id": "49c166e1",
   "metadata": {},
   "outputs": [
    {
     "data": {
      "text/plain": [
       "(3, 4)"
      ]
     },
     "execution_count": 80,
     "metadata": {},
     "output_type": "execute_result"
    }
   ],
   "source": [
    "z.shape"
   ]
  },
  {
   "cell_type": "code",
   "execution_count": 81,
   "id": "015a28f8",
   "metadata": {},
   "outputs": [
    {
     "data": {
      "text/plain": [
       "array([[0.41347616, 0.3939117 ],\n",
       "       [0.52663996, 0.31542709],\n",
       "       [0.36748118, 0.99429711],\n",
       "       [0.46012885, 0.1928901 ],\n",
       "       [0.9712583 , 0.12581869],\n",
       "       [0.84606985, 0.54787334]])"
      ]
     },
     "execution_count": 81,
     "metadata": {},
     "output_type": "execute_result"
    }
   ],
   "source": [
    "x=z.reshape(6,2)\n",
    "x"
   ]
  },
  {
   "cell_type": "code",
   "execution_count": 82,
   "id": "0bf0e003",
   "metadata": {},
   "outputs": [
    {
     "data": {
      "text/plain": [
       "array([[0.41347616, 0.3939117 , 0.52663996, 0.31542709],\n",
       "       [0.36748118, 0.99429711, 0.46012885, 0.1928901 ],\n",
       "       [0.9712583 , 0.12581869, 0.84606985, 0.54787334]])"
      ]
     },
     "execution_count": 82,
     "metadata": {},
     "output_type": "execute_result"
    }
   ],
   "source": [
    "z"
   ]
  },
  {
   "cell_type": "code",
   "execution_count": 83,
   "id": "85e1e22a",
   "metadata": {},
   "outputs": [
    {
     "data": {
      "text/plain": [
       "array([0.41347616, 0.3939117 , 0.52663996, 0.31542709, 0.36748118,\n",
       "       0.99429711, 0.46012885, 0.1928901 , 0.9712583 , 0.12581869,\n",
       "       0.84606985, 0.54787334])"
      ]
     },
     "execution_count": 83,
     "metadata": {},
     "output_type": "execute_result"
    }
   ],
   "source": [
    "x.ravel() ##falten chyya make it oned"
   ]
  },
  {
   "cell_type": "code",
   "execution_count": 84,
   "id": "97942e27",
   "metadata": {},
   "outputs": [
    {
     "data": {
      "text/plain": [
       "array([[0, 1],\n",
       "       [2, 3]])"
      ]
     },
     "execution_count": 84,
     "metadata": {},
     "output_type": "execute_result"
    }
   ],
   "source": [
    "##manipulating rows and colums\n",
    "m=np.arange(4).reshape(2,2)\n",
    "m"
   ]
  },
  {
   "cell_type": "code",
   "execution_count": 45,
   "id": "eb6f79e5",
   "metadata": {},
   "outputs": [
    {
     "data": {
      "text/plain": [
       "array([[4, 5],\n",
       "       [6, 7]])"
      ]
     },
     "execution_count": 45,
     "metadata": {},
     "output_type": "execute_result"
    }
   ],
   "source": [
    "b=np.arange(4,8).reshape(2,2)\n",
    "b"
   ]
  },
  {
   "cell_type": "code",
   "execution_count": 2,
   "id": "bb0cec5a",
   "metadata": {},
   "outputs": [
    {
     "data": {
      "text/plain": [
       "array([1, 2, 3])"
      ]
     },
     "execution_count": 2,
     "metadata": {},
     "output_type": "execute_result"
    }
   ],
   "source": [
    "import numpy as np\n",
    "a=np.array([1,2,3])\n",
    "a"
   ]
  },
  {
   "cell_type": "code",
   "execution_count": 4,
   "id": "14ef1c28",
   "metadata": {},
   "outputs": [
    {
     "data": {
      "text/plain": [
       "array([4, 5, 6])"
      ]
     },
     "execution_count": 4,
     "metadata": {},
     "output_type": "execute_result"
    }
   ],
   "source": [
    "b=np.array([4,5,6])\n",
    "b"
   ]
  },
  {
   "cell_type": "code",
   "execution_count": 5,
   "id": "cf2814d6",
   "metadata": {},
   "outputs": [
    {
     "data": {
      "text/plain": [
       "array([[1, 2, 3],\n",
       "       [4, 5, 6]])"
      ]
     },
     "execution_count": 5,
     "metadata": {},
     "output_type": "execute_result"
    }
   ],
   "source": [
    "np.vstack((a,b))"
   ]
  },
  {
   "cell_type": "code",
   "execution_count": 7,
   "id": "c689ff1e",
   "metadata": {},
   "outputs": [
    {
     "data": {
      "text/plain": [
       "array([1, 2, 3, 4, 5, 6])"
      ]
     },
     "execution_count": 7,
     "metadata": {},
     "output_type": "execute_result"
    }
   ],
   "source": [
    "np.hstack((a,b))"
   ]
  },
  {
   "cell_type": "code",
   "execution_count": 99,
   "id": "c7a8b39b",
   "metadata": {},
   "outputs": [
    {
     "data": {
      "text/plain": [
       "array([[1., 0., 0., 0.],\n",
       "       [0., 1., 0., 0.],\n",
       "       [0., 0., 1., 0.],\n",
       "       [0., 0., 0., 1.]])"
      ]
     },
     "execution_count": 99,
     "metadata": {},
     "output_type": "execute_result"
    }
   ],
   "source": [
    "np.eye(4,4) ##identity matrix"
   ]
  },
  {
   "cell_type": "code",
   "execution_count": 93,
   "id": "e7058506",
   "metadata": {},
   "outputs": [
    {
     "data": {
      "text/plain": [
       "dtype('int32')"
      ]
     },
     "execution_count": 93,
     "metadata": {},
     "output_type": "execute_result"
    }
   ],
   "source": [
    "a.dtypearray([[1., 0., 0., 0.],\n",
    "       [0., 1., 0., 0.],\n",
    "       [0., 0., 1., 0.],\n",
    "       [0., 0., 0., 1.]])\n",
    "a.dtype\n",
    "a.dtype"
   ]
  },
  {
   "cell_type": "code",
   "execution_count": 95,
   "id": "1af21ec8",
   "metadata": {},
   "outputs": [
    {
     "data": {
      "text/plain": [
       "dtype('S6')"
      ]
     },
     "execution_count": 95,
     "metadata": {},
     "output_type": "execute_result"
    }
   ],
   "source": [
    "j=np.array(['apple','orange','grapes'],dtype='S')\n",
    "j.dtype"
   ]
  },
  {
   "cell_type": "code",
   "execution_count": 96,
   "id": "914291ab",
   "metadata": {},
   "outputs": [
    {
     "data": {
      "text/plain": [
       "array([b'apple', b'orange', b'grapes'], dtype='|S6')"
      ]
     },
     "execution_count": 96,
     "metadata": {},
     "output_type": "execute_result"
    }
   ],
   "source": [
    "j"
   ]
  },
  {
   "cell_type": "code",
   "execution_count": 97,
   "id": "d3478c79",
   "metadata": {},
   "outputs": [
    {
     "data": {
      "text/plain": [
       "array(['a', '4', '5'], dtype='<U1')"
      ]
     },
     "execution_count": 97,
     "metadata": {},
     "output_type": "execute_result"
    }
   ],
   "source": [
    "k=np.array(['a','4','5'])\n",
    "k"
   ]
  },
  {
   "cell_type": "code",
   "execution_count": 98,
   "id": "39d47c8c",
   "metadata": {},
   "outputs": [
    {
     "data": {
      "text/plain": [
       "dtype('<U1')"
      ]
     },
     "execution_count": 98,
     "metadata": {},
     "output_type": "execute_result"
    }
   ],
   "source": [
    "k.dtype"
   ]
  },
  {
   "cell_type": "code",
   "execution_count": 1,
   "id": "dde1dcd0",
   "metadata": {},
   "outputs": [],
   "source": [
    "import numpy as np"
   ]
  },
  {
   "cell_type": "code",
   "execution_count": 4,
   "id": "646fdd7c",
   "metadata": {},
   "outputs": [
    {
     "data": {
      "text/plain": [
       "array([[ 0,  1, 10,  0],\n",
       "       [10,  1,  4,  9],\n",
       "       [ 3,  2,  5,  9]])"
      ]
     },
     "execution_count": 4,
     "metadata": {},
     "output_type": "execute_result"
    }
   ],
   "source": [
    "new_data=np.random.randint(0,11,size=(3,4))\n",
    "new_data"
   ]
  },
  {
   "cell_type": "code",
   "execution_count": 5,
   "id": "108b5050",
   "metadata": {},
   "outputs": [
    {
     "data": {
      "text/plain": [
       "10"
      ]
     },
     "execution_count": 5,
     "metadata": {},
     "output_type": "execute_result"
    }
   ],
   "source": [
    "new_data.max()"
   ]
  },
  {
   "cell_type": "code",
   "execution_count": 6,
   "id": "f1f8d93b",
   "metadata": {},
   "outputs": [
    {
     "data": {
      "text/plain": [
       "0"
      ]
     },
     "execution_count": 6,
     "metadata": {},
     "output_type": "execute_result"
    }
   ],
   "source": [
    "new_data.min()"
   ]
  },
  {
   "cell_type": "code",
   "execution_count": 7,
   "id": "c156a5f0",
   "metadata": {},
   "outputs": [
    {
     "data": {
      "text/plain": [
       "array([13,  4, 19, 18])"
      ]
     },
     "execution_count": 7,
     "metadata": {},
     "output_type": "execute_result"
    }
   ],
   "source": [
    "new_data.sum(axis=0)"
   ]
  },
  {
   "cell_type": "code",
   "execution_count": 9,
   "id": "5add07bf",
   "metadata": {},
   "outputs": [
    {
     "data": {
      "text/plain": [
       "array([11, 24, 19])"
      ]
     },
     "execution_count": 9,
     "metadata": {},
     "output_type": "execute_result"
    }
   ],
   "source": [
    "new_data.sum(axis=1)"
   ]
  },
  {
   "cell_type": "code",
   "execution_count": 3,
   "id": "cb9cd358",
   "metadata": {},
   "outputs": [
    {
     "data": {
      "text/plain": [
       "[1, 2, 3, 4]"
      ]
     },
     "execution_count": 3,
     "metadata": {},
     "output_type": "execute_result"
    }
   ],
   "source": [
    "arr=[1,2,3,4]\n",
    "arr"
   ]
  },
  {
   "cell_type": "code",
   "execution_count": 4,
   "id": "933090c2",
   "metadata": {},
   "outputs": [
    {
     "name": "stdout",
     "output_type": "stream",
     "text": [
      "1\n",
      "2\n",
      "3\n",
      "4\n"
     ]
    }
   ],
   "source": [
    "for x in arr:\n",
    "    print(x)"
   ]
  },
  {
   "cell_type": "code",
   "execution_count": 5,
   "id": "2a9932a7",
   "metadata": {},
   "outputs": [
    {
     "name": "stdout",
     "output_type": "stream",
     "text": [
      "3 is not here\n",
      "3 is not here\n",
      "3 is present in here\n",
      "3 is not here\n"
     ]
    }
   ],
   "source": [
    "for x in arr:\n",
    "    if(x==3):\n",
    "        print(\"3 is present in here\")\n",
    "    else:\n",
    "        print(\"3 is not here\")"
   ]
  },
  {
   "cell_type": "code",
   "execution_count": 6,
   "id": "095370fc",
   "metadata": {},
   "outputs": [
    {
     "data": {
      "text/plain": [
       "array([[1, 2, 3, 4],\n",
       "       [5, 6, 7, 8]])"
      ]
     },
     "execution_count": 6,
     "metadata": {},
     "output_type": "execute_result"
    }
   ],
   "source": [
    "a=np.array([[1,2,3,4],[5,6,7,8]])\n",
    "a"
   ]
  },
  {
   "cell_type": "code",
   "execution_count": 8,
   "id": "f8cee29c",
   "metadata": {},
   "outputs": [
    {
     "name": "stdout",
     "output_type": "stream",
     "text": [
      "[1 2 3 4]\n",
      "[5 6 7 8]\n"
     ]
    }
   ],
   "source": [
    "for x in a:\n",
    "    print(x)"
   ]
  },
  {
   "cell_type": "code",
   "execution_count": 23,
   "id": "41457c2b",
   "metadata": {},
   "outputs": [
    {
     "data": {
      "text/plain": [
       "array([[[ 1,  2,  3,  4],\n",
       "        [ 5,  6,  7,  8],\n",
       "        [ 9, 10, 11, 12]]])"
      ]
     },
     "execution_count": 23,
     "metadata": {},
     "output_type": "execute_result"
    }
   ],
   "source": [
    "b=np.array([[[1,2,3,4],[5,6,7,8],[9,10,11,12]]])\n",
    "b"
   ]
  },
  {
   "cell_type": "code",
   "execution_count": 24,
   "id": "8bf59308",
   "metadata": {},
   "outputs": [
    {
     "name": "stdout",
     "output_type": "stream",
     "text": [
      "[[ 1  2  3  4]\n",
      " [ 5  6  7  8]\n",
      " [ 9 10 11 12]]\n"
     ]
    }
   ],
   "source": [
    "for x in b:\n",
    "    print(x)"
   ]
  },
  {
   "cell_type": "code",
   "execution_count": 25,
   "id": "f550ee03",
   "metadata": {},
   "outputs": [
    {
     "data": {
      "text/plain": [
       "array([[ 1,  2,  3,  4],\n",
       "       [ 5,  6,  7,  8],\n",
       "       [ 9, 10, 11, 12],\n",
       "       [13, 14, 15, 16]])"
      ]
     },
     "execution_count": 25,
     "metadata": {},
     "output_type": "execute_result"
    }
   ],
   "source": [
    "c=np.array([[1,2,3,4],[5,6,7,8],[9,10,11,12],[13,14,15,16]])\n",
    "c"
   ]
  },
  {
   "cell_type": "code",
   "execution_count": 26,
   "id": "0836a8ae",
   "metadata": {},
   "outputs": [
    {
     "name": "stdout",
     "output_type": "stream",
     "text": [
      "[1 2 3 4]\n",
      "[5 6 7 8]\n",
      "[ 9 10 11 12]\n",
      "[13 14 15 16]\n"
     ]
    }
   ],
   "source": [
    "for x in c:\n",
    "    print(x)"
   ]
  },
  {
   "cell_type": "code",
   "execution_count": 27,
   "id": "2f58ffca",
   "metadata": {},
   "outputs": [
    {
     "name": "stdout",
     "output_type": "stream",
     "text": [
      "1\n",
      "2\n",
      "3\n",
      "4\n",
      "5\n",
      "6\n",
      "7\n",
      "8\n"
     ]
    }
   ],
   "source": [
    "for x in np.nditer(a):\n",
    "    print(x)"
   ]
  },
  {
   "cell_type": "code",
   "execution_count": 28,
   "id": "7a100c94",
   "metadata": {},
   "outputs": [
    {
     "name": "stdout",
     "output_type": "stream",
     "text": [
      "(0,) 1\n",
      "(1,) 2\n",
      "(2,) 3\n",
      "(3,) 4\n"
     ]
    }
   ],
   "source": [
    "for index,x in np.ndenumerate(arr):\n",
    "    print(index,x)"
   ]
  },
  {
   "cell_type": "code",
   "execution_count": 29,
   "id": "c229cef2",
   "metadata": {},
   "outputs": [
    {
     "name": "stdout",
     "output_type": "stream",
     "text": [
      "(0, 0, 0) 1\n",
      "(0, 0, 1) 2\n",
      "(0, 0, 2) 3\n",
      "(0, 0, 3) 4\n",
      "(0, 1, 0) 5\n",
      "(0, 1, 1) 6\n",
      "(0, 1, 2) 7\n",
      "(0, 1, 3) 8\n",
      "(0, 2, 0) 9\n",
      "(0, 2, 1) 10\n",
      "(0, 2, 2) 11\n",
      "(0, 2, 3) 12\n"
     ]
    }
   ],
   "source": [
    "for index,x in np.ndenumerate(b):\n",
    "    print(index,x)"
   ]
  },
  {
   "cell_type": "code",
   "execution_count": 30,
   "id": "bfa56c28",
   "metadata": {},
   "outputs": [
    {
     "data": {
      "text/plain": [
       "3"
      ]
     },
     "execution_count": 30,
     "metadata": {},
     "output_type": "execute_result"
    }
   ],
   "source": [
    "b.ndim"
   ]
  },
  {
   "cell_type": "code",
   "execution_count": 31,
   "id": "5f74a3d9",
   "metadata": {},
   "outputs": [
    {
     "data": {
      "text/plain": [
       "array([[[ 1,  2,  3,  4],\n",
       "        [ 5,  6,  7,  8],\n",
       "        [ 9, 10, 11, 12]]])"
      ]
     },
     "execution_count": 31,
     "metadata": {},
     "output_type": "execute_result"
    }
   ],
   "source": [
    "b"
   ]
  },
  {
   "cell_type": "code",
   "execution_count": 33,
   "id": "59b58262",
   "metadata": {},
   "outputs": [
    {
     "data": {
      "text/plain": [
       "[1, 2, 3, 4]"
      ]
     },
     "execution_count": 33,
     "metadata": {},
     "output_type": "execute_result"
    }
   ],
   "source": [
    "arr"
   ]
  },
  {
   "cell_type": "code",
   "execution_count": 35,
   "id": "6228e6ca",
   "metadata": {},
   "outputs": [
    {
     "data": {
      "text/plain": [
       "[array([1, 2]), array([3, 4])]"
      ]
     },
     "execution_count": 35,
     "metadata": {},
     "output_type": "execute_result"
    }
   ],
   "source": [
    "arr2=np.array_split(arr,2)\n",
    "arr2"
   ]
  },
  {
   "cell_type": "code",
   "execution_count": 36,
   "id": "f49d4d3a",
   "metadata": {},
   "outputs": [
    {
     "data": {
      "text/plain": [
       "[array([1, 2]), array([3]), array([4])]"
      ]
     },
     "execution_count": 36,
     "metadata": {},
     "output_type": "execute_result"
    }
   ],
   "source": [
    "arr3=np.array_split(arr,3)\n",
    "arr3"
   ]
  },
  {
   "cell_type": "code",
   "execution_count": 37,
   "id": "ce382032",
   "metadata": {},
   "outputs": [
    {
     "data": {
      "text/plain": [
       "[array([1]), array([2]), array([3]), array([4])]"
      ]
     },
     "execution_count": 37,
     "metadata": {},
     "output_type": "execute_result"
    }
   ],
   "source": [
    "arr4=np.array_split(arr,4)\n",
    "arr4"
   ]
  },
  {
   "cell_type": "code",
   "execution_count": 38,
   "id": "2242d8f5",
   "metadata": {},
   "outputs": [
    {
     "data": {
      "text/plain": [
       "1"
      ]
     },
     "execution_count": 38,
     "metadata": {},
     "output_type": "execute_result"
    }
   ],
   "source": [
    "arr[0]"
   ]
  },
  {
   "cell_type": "code",
   "execution_count": 39,
   "id": "01c29ffb",
   "metadata": {},
   "outputs": [
    {
     "data": {
      "text/plain": [
       "4"
      ]
     },
     "execution_count": 39,
     "metadata": {},
     "output_type": "execute_result"
    }
   ],
   "source": [
    "arr[3]"
   ]
  },
  {
   "cell_type": "code",
   "execution_count": 40,
   "id": "4f9de8a4",
   "metadata": {},
   "outputs": [
    {
     "data": {
      "text/plain": [
       "3"
      ]
     },
     "execution_count": 40,
     "metadata": {},
     "output_type": "execute_result"
    }
   ],
   "source": [
    "arr[2]"
   ]
  },
  {
   "cell_type": "code",
   "execution_count": 47,
   "id": "f34425b4",
   "metadata": {},
   "outputs": [
    {
     "data": {
      "text/plain": [
       "[1, 2, 3, 4]"
      ]
     },
     "execution_count": 47,
     "metadata": {},
     "output_type": "execute_result"
    }
   ],
   "source": [
    "b=[1,2,3,4]\n",
    "b"
   ]
  },
  {
   "cell_type": "code",
   "execution_count": 62,
   "id": "228d8ae3",
   "metadata": {},
   "outputs": [
    {
     "data": {
      "text/plain": [
       "(array([3, 9], dtype=int64),)"
      ]
     },
     "execution_count": 62,
     "metadata": {},
     "output_type": "execute_result"
    }
   ],
   "source": [
    "a=np.where(arr == 4)\n",
    "a"
   ]
  },
  {
   "cell_type": "code",
   "execution_count": 56,
   "id": "151754bb",
   "metadata": {},
   "outputs": [
    {
     "data": {
      "text/plain": [
       "array([1, 2, 3, 4, 5, 5, 1, 2, 1, 4, 1, 6, 7])"
      ]
     },
     "execution_count": 56,
     "metadata": {},
     "output_type": "execute_result"
    }
   ],
   "source": [
    "arr = np.array([1,2,3,4,5,5,1,2,1,4,1,6,7])\n",
    "arr"
   ]
  },
  {
   "cell_type": "code",
   "execution_count": 57,
   "id": "ce63a389",
   "metadata": {},
   "outputs": [
    {
     "data": {
      "text/plain": [
       "(array([ 0,  6,  8, 10], dtype=int64),)"
      ]
     },
     "execution_count": 57,
     "metadata": {},
     "output_type": "execute_result"
    }
   ],
   "source": [
    "np.where(arr==1)\n"
   ]
  },
  {
   "cell_type": "code",
   "execution_count": 58,
   "id": "07455274",
   "metadata": {},
   "outputs": [
    {
     "data": {
      "text/plain": [
       "(array([ 1,  3,  7,  9, 11], dtype=int64),)"
      ]
     },
     "execution_count": 58,
     "metadata": {},
     "output_type": "execute_result"
    }
   ],
   "source": [
    "np.where(arr % 2==0)"
   ]
  },
  {
   "cell_type": "code",
   "execution_count": 59,
   "id": "05d8d836",
   "metadata": {},
   "outputs": [
    {
     "data": {
      "text/plain": [
       "array([1, 1, 1, 1, 2, 2, 3, 4, 4, 5, 5, 6, 7])"
      ]
     },
     "execution_count": 59,
     "metadata": {},
     "output_type": "execute_result"
    }
   ],
   "source": [
    "np.sort(arr)"
   ]
  },
  {
   "cell_type": "code",
   "execution_count": 64,
   "id": "3be90a8d",
   "metadata": {},
   "outputs": [
    {
     "data": {
      "text/plain": [
       "array([b'apple', b'orange', b'grapes'], dtype='|S6')"
      ]
     },
     "execution_count": 64,
     "metadata": {},
     "output_type": "execute_result"
    }
   ],
   "source": [
    "j=np.array(['apple','orange','grapes'],dtype='S')\n",
    "j"
   ]
  },
  {
   "cell_type": "code",
   "execution_count": 65,
   "id": "ac356f7e",
   "metadata": {},
   "outputs": [
    {
     "data": {
      "text/plain": [
       "array([b'apple', b'grapes', b'orange'], dtype='|S6')"
      ]
     },
     "execution_count": 65,
     "metadata": {},
     "output_type": "execute_result"
    }
   ],
   "source": [
    "np.sort(j)"
   ]
  },
  {
   "cell_type": "code",
   "execution_count": 68,
   "id": "84d9c796",
   "metadata": {},
   "outputs": [
    {
     "data": {
      "text/plain": [
       "array([[1, 2, 3],\n",
       "       [6, 3, 9]])"
      ]
     },
     "execution_count": 68,
     "metadata": {},
     "output_type": "execute_result"
    }
   ],
   "source": [
    "arr1=np.array([[1,2,3],[6,3,9]])\n",
    "arr1"
   ]
  },
  {
   "cell_type": "code",
   "execution_count": 69,
   "id": "e5bf2f17",
   "metadata": {},
   "outputs": [
    {
     "data": {
      "text/plain": [
       "array([[1, 2, 3],\n",
       "       [3, 6, 9]])"
      ]
     },
     "execution_count": 69,
     "metadata": {},
     "output_type": "execute_result"
    }
   ],
   "source": [
    "np.sort(arr1)"
   ]
  },
  {
   "cell_type": "code",
   "execution_count": 77,
   "id": "c936f0ef",
   "metadata": {},
   "outputs": [
    {
     "data": {
      "text/plain": [
       "array([[[ 1,  2,  6,  3],\n",
       "        [ 5,  4,  7,  8],\n",
       "        [ 9, 10, 11, 12]]])"
      ]
     },
     "execution_count": 77,
     "metadata": {},
     "output_type": "execute_result"
    }
   ],
   "source": [
    "b=np.array([[[1,2,6,3],[5,4,7,8],[9,10,11,12]]])\n",
    "b"
   ]
  },
  {
   "cell_type": "code",
   "execution_count": 78,
   "id": "858d68fe",
   "metadata": {},
   "outputs": [
    {
     "data": {
      "text/plain": [
       "array([[[ 1,  2,  3,  6],\n",
       "        [ 4,  5,  7,  8],\n",
       "        [ 9, 10, 11, 12]]])"
      ]
     },
     "execution_count": 78,
     "metadata": {},
     "output_type": "execute_result"
    }
   ],
   "source": [
    "np.sort(b)"
   ]
  },
  {
   "cell_type": "code",
   "execution_count": 79,
   "id": "fab94eba",
   "metadata": {},
   "outputs": [
    {
     "data": {
      "text/plain": [
       "array([[1, 2, 3],\n",
       "       [6, 3, 9]])"
      ]
     },
     "execution_count": 79,
     "metadata": {},
     "output_type": "execute_result"
    }
   ],
   "source": [
    "arr1"
   ]
  },
  {
   "cell_type": "code",
   "execution_count": 80,
   "id": "fe46cdc4",
   "metadata": {},
   "outputs": [],
   "source": [
    "x=[True,False]"
   ]
  },
  {
   "cell_type": "code",
   "execution_count": 1,
   "id": "1b0e5f77",
   "metadata": {},
   "outputs": [],
   "source": [
    "import numpy as np"
   ]
  },
  {
   "cell_type": "code",
   "execution_count": 2,
   "id": "6e3d5a7f",
   "metadata": {},
   "outputs": [],
   "source": [
    "a=np.array([23,53,45,67])"
   ]
  },
  {
   "cell_type": "code",
   "execution_count": 3,
   "id": "352471d5",
   "metadata": {},
   "outputs": [],
   "source": [
    "x=[True,False,False,True]"
   ]
  },
  {
   "cell_type": "code",
   "execution_count": 5,
   "id": "c2d38e01",
   "metadata": {},
   "outputs": [],
   "source": [
    "new_a=a[x]"
   ]
  },
  {
   "cell_type": "code",
   "execution_count": 6,
   "id": "084a8ddb",
   "metadata": {},
   "outputs": [
    {
     "data": {
      "text/plain": [
       "array([23, 67])"
      ]
     },
     "execution_count": 6,
     "metadata": {},
     "output_type": "execute_result"
    }
   ],
   "source": [
    "new_a"
   ]
  },
  {
   "cell_type": "code",
   "execution_count": 7,
   "id": "bbcc0098",
   "metadata": {},
   "outputs": [],
   "source": [
    "filter_array=[]"
   ]
  },
  {
   "cell_type": "code",
   "execution_count": 8,
   "id": "672003a4",
   "metadata": {},
   "outputs": [],
   "source": [
    "for i in a:\n",
    "    if i > 46:\n",
    "        filter_array.append(True)\n",
    "    else:\n",
    "        filter_array.append(False)    "
   ]
  },
  {
   "cell_type": "code",
   "execution_count": 9,
   "id": "3489f691",
   "metadata": {},
   "outputs": [
    {
     "data": {
      "text/plain": [
       "[False, True, False, True]"
      ]
     },
     "execution_count": 9,
     "metadata": {},
     "output_type": "execute_result"
    }
   ],
   "source": [
    "filter_array"
   ]
  },
  {
   "cell_type": "code",
   "execution_count": 11,
   "id": "1e5a5d18",
   "metadata": {},
   "outputs": [
    {
     "data": {
      "text/plain": [
       "array([53, 67])"
      ]
     },
     "execution_count": 11,
     "metadata": {},
     "output_type": "execute_result"
    }
   ],
   "source": [
    "new_a=a[filter_array]\n",
    "new_a"
   ]
  },
  {
   "cell_type": "code",
   "execution_count": 12,
   "id": "e597e3f1",
   "metadata": {},
   "outputs": [
    {
     "data": {
      "text/plain": [
       "array([False,  True, False,  True])"
      ]
     },
     "execution_count": 12,
     "metadata": {},
     "output_type": "execute_result"
    }
   ],
   "source": [
    "filter_array=a>46\n",
    "filter_array"
   ]
  },
  {
   "cell_type": "code",
   "execution_count": 13,
   "id": "1f126b4f",
   "metadata": {},
   "outputs": [
    {
     "data": {
      "text/plain": [
       "array([False, False, False, False])"
      ]
     },
     "execution_count": 13,
     "metadata": {},
     "output_type": "execute_result"
    }
   ],
   "source": [
    "filter2=a%2==0\n",
    "filter2"
   ]
  },
  {
   "cell_type": "code",
   "execution_count": 15,
   "id": "879383b7",
   "metadata": {},
   "outputs": [
    {
     "data": {
      "text/plain": [
       "array([ True,  True,  True,  True])"
      ]
     },
     "execution_count": 15,
     "metadata": {},
     "output_type": "execute_result"
    }
   ],
   "source": [
    "filter2=a%2!=0\n",
    "filter2"
   ]
  },
  {
   "cell_type": "code",
   "execution_count": 26,
   "id": "ca1c1d97",
   "metadata": {},
   "outputs": [
    {
     "data": {
      "text/plain": [
       "array([[ 0,  1,  2,  3,  4,  5],\n",
       "       [ 6,  7,  8,  9, 10, 11]])"
      ]
     },
     "execution_count": 26,
     "metadata": {},
     "output_type": "execute_result"
    }
   ],
   "source": [
    "g=np.arange(12).reshape(2,6)\n",
    "g"
   ]
  },
  {
   "cell_type": "code",
   "execution_count": null,
   "id": "e7bdf248",
   "metadata": {},
   "outputs": [],
   "source": []
  }
 ],
 "metadata": {
  "kernelspec": {
   "display_name": "Python 3 (ipykernel)",
   "language": "python",
   "name": "python3"
  },
  "language_info": {
   "codemirror_mode": {
    "name": "ipython",
    "version": 3
   },
   "file_extension": ".py",
   "mimetype": "text/x-python",
   "name": "python",
   "nbconvert_exporter": "python",
   "pygments_lexer": "ipython3",
   "version": "3.11.4"
  }
 },
 "nbformat": 4,
 "nbformat_minor": 5
}
